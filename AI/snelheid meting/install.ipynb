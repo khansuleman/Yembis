{
 "cells": [
  {
   "cell_type": "code",
   "execution_count": 2,
   "metadata": {},
   "outputs": [],
   "source": [
    "import pyscreenshot as ImageGrab\n",
    "im=ImageGrab.grab(bbox=(10,10,500,500))\n",
    "im.show()\n",
    "im.save('Resources/Screens/img.png')"
   ]
  }
 ],
 "metadata": {
  "kernelspec": {
   "display_name": "Python 3",
   "language": "python",
   "name": "python3"
  },
  "language_info": {
   "codemirror_mode": {
    "name": "ipython",
    "version": 3
   },
   "file_extension": ".py",
   "mimetype": "text/x-python",
   "name": "python",
   "nbconvert_exporter": "python",
   "pygments_lexer": "ipython3",
   "version": "3.11.1"
  },
  "orig_nbformat": 4,
  "vscode": {
   "interpreter": {
    "hash": "875a129ce724f1e17aa5f62e1ba542c45eb6c1ccf5e4893afe3acff01bf6e810"
   }
  }
 },
 "nbformat": 4,
 "nbformat_minor": 2
}
